{
 "cells": [
  {
   "cell_type": "markdown",
   "id": "5053e9ab",
   "metadata": {},
   "source": [
    "# exercise2"
   ]
  },
  {
   "cell_type": "code",
   "execution_count": 30,
   "id": "51908b03",
   "metadata": {},
   "outputs": [
    {
     "name": "stdout",
     "output_type": "stream",
     "text": [
      "386\n",
      "462\n",
      "418\n",
      "344\n",
      "236\n",
      "566\n",
      "978\n",
      "328\n",
      "162\n",
      "758\n",
      "918\n",
      "412\n",
      "566\n",
      "826\n",
      "248\n",
      "866\n",
      "104\n",
      "58\n",
      "512\n",
      "24\n",
      "892\n",
      "894\n",
      "742\n",
      "958\n"
     ]
    }
   ],
   "source": [
    "one_list =[386, 462, 47, 418, 907, 344, 236, 375, 823, 566, 597, 978, 328, 615, 953, 345, 399, 162, 758, 219, 918, 237, 412, 566, 826, 248, 866,\n",
    "949, 687, 217, 815, 67, 104, 58, 512, 24, 892, 894, 767, 553, 81, 379, 84]\n",
    "    \n",
    "for x in (my_list):\n",
    "    i=x%2\n",
    "    if i==0:\n",
    "        print(x)\n",
    "    else:\n",
    "       continue"
   ]
  },
  {
   "cell_type": "markdown",
   "id": "d04e538d",
   "metadata": {},
   "source": [
    "# exercise3"
   ]
  },
  {
   "cell_type": "code",
   "execution_count": 29,
   "id": "3ebb6347",
   "metadata": {},
   "outputs": [
    {
     "name": "stdout",
     "output_type": "stream",
     "text": [
      "please enter a:8\n",
      "please enter b:9\n",
      "20\n"
     ]
    }
   ],
   "source": [
    "a=int(input(\"please enter a:\"))\n",
    "b=int(input(\"please enter b:\"))\n",
    "\n",
    "c=a+b\n",
    "if c >=15 and c<=20:\n",
    "     print(20)\n",
    "else:\n",
    "    print(c)"
   ]
  },
  {
   "cell_type": "markdown",
   "id": "3ce2a733",
   "metadata": {},
   "source": [
    "# exercize4"
   ]
  },
  {
   "cell_type": "code",
   "execution_count": 31,
   "id": "84ac72f9",
   "metadata": {},
   "outputs": [
    {
     "name": "stdout",
     "output_type": "stream",
     "text": [
      "1 >>> 2\n",
      "2 >>> 2\n",
      "58 >>> 2\n",
      "35 >>> 3\n",
      "8 >>> 1\n",
      "9 >>> 1\n",
      "89 >>> 2\n",
      "56 >>> 1\n"
     ]
    }
   ],
   "source": [
    "one_list=[1,2,58,35,35,8,9,89,56,89,1,2,58,35]\n",
    "seclist=[]\n",
    "for x in (one_list):\n",
    "    if x not in seclist:\n",
    "        seclist.append(x)\n",
    "\n",
    "\n",
    "for x in (seclist):\n",
    "    b=0\n",
    "    for i in (one_list):\n",
    "        if i==x:\n",
    "            b=b+1\n",
    "    print(x,'>>>',b)\n",
    "        "
   ]
  },
  {
   "cell_type": "markdown",
   "id": "6d975af8",
   "metadata": {},
   "source": [
    "# exercise6"
   ]
  },
  {
   "cell_type": "code",
   "execution_count": 3,
   "id": "a2b8a964",
   "metadata": {},
   "outputs": [
    {
     "name": "stdout",
     "output_type": "stream",
     "text": [
      "Please enter the number of sequence of numbers: 10\n",
      "1\n",
      "1\n",
      "2\n",
      "3\n",
      "5\n",
      "8\n",
      "13\n",
      "21\n",
      "34\n",
      "55\n"
     ]
    }
   ],
   "source": [
    "x=int(input(\"Please enter the number of sequence of numbers: \"))\n",
    "\n",
    "lstn=[1,1]\n",
    "\n",
    "for i in range (1,x-1,1):\n",
    "    \n",
    "    if len(lstn) == 2:\n",
    "        \n",
    "        print(lstn[0])\n",
    "        print(lstn[1])\n",
    "        n=lstn[0]+lstn[1]\n",
    "        print(n)\n",
    "        lstn.append(n)\n",
    "        \n",
    "    else:\n",
    "        \n",
    "        n=lstn[i]+lstn[i-1]\n",
    "        print(n)\n",
    "        lstn.append(n)"
   ]
  },
  {
   "cell_type": "code",
   "execution_count": null,
   "id": "040c2cab",
   "metadata": {},
   "outputs": [],
   "source": [
    "1st =I'11\"\n",
    "\"pooya\",\n",
    "*10'\n",
    "*10.5\n",
    "\"z2)\"\n",
    "capitalalphabets=\"ABCDEFGHIJKLMNOPORSTUVWXYZ\"\n",
    "smallalphabets=\"abcdefghijklmnopqrstuvwxyz\"\n",
    "specialchar='\n",
    "$0. \"\n",
    "ser=ll\n",
    "\"O\"]\n",
    "while len(lst)>0:\n",
    "var=True\n",
    "x=]st. pop0)\n",
    "for i in range(len(x)):\n",
    "y=x[i]\n",
    "it V\n",
    "in smallalphabets:\n",
    "var=False\n",
    "elif\n",
    "in capitalalphabets:\n",
    "Va\n",
    "=False\n",
    "elif y\n",
    "in specialchar:\n",
    "var=False\n",
    "if var•\n",
    "x=int(x)\n",
    "ser.append(x)\n",
    "print(ser[::-1])"
   ]
  },
  {
   "cell_type": "markdown",
   "id": "d4e3fe35",
   "metadata": {},
   "source": [
    "# exercise5"
   ]
  },
  {
   "cell_type": "code",
   "execution_count": 2,
   "id": "0fe8c0a8",
   "metadata": {},
   "outputs": [
    {
     "name": "stdout",
     "output_type": "stream",
     "text": [
      "please enter the quorum:3\n",
      "player a----> Please enter the desired element (from rock-paper-scissors):rock\n",
      "Player b----> Please enter the desired element (from rock-paper-scissors):scissors\n",
      "user A won this round! result= 1 -- 0\n",
      "player a----> Please enter the desired element (from rock-paper-scissors):rock\n",
      "Player b----> Please enter the desired element (from rock-paper-scissors):scissors\n",
      "user A won this round! result= 2 -- 0\n",
      "player a----> Please enter the desired element (from rock-paper-scissors):rock\n",
      "Player b----> Please enter the desired element (from rock-paper-scissors):scissors\n",
      "user A won this round! result= 3 -- 0\n",
      "user A win the match! result= 3 -- 0 \n",
      " Goodbye...!\n"
     ]
    }
   ],
   "source": [
    "quorum=int(input(\"please enter the quorum:\"))\n",
    "\n",
    "user_a_score=0\n",
    "user_b_score=0\n",
    "i=5\n",
    "\n",
    "while i:\n",
    "    \n",
    "    user_a=input(\"player a----> Please enter the desired element (from rock-paper-scissors):\")\n",
    "    \n",
    "    \n",
    "    \n",
    "    \n",
    "    user_b=input(\"Player b----> Please enter the desired element (from rock-paper-scissors):\")\n",
    "    \n",
    "   \n",
    "    \n",
    "\n",
    "    if user_a == user_b:\n",
    "\n",
    "        print(\"equal!\")\n",
    "\n",
    "        \n",
    "        \n",
    "    # user A Won\n",
    "\n",
    "    if user_a == \"paper\" and user_b == \"rock\" or user_a == \"rock\" and user_b == \"scissors\" or user_a == \"scissors\" and user_b == \"paper\":\n",
    "\n",
    "        user_a_score=user_a_score+1\n",
    "        print(\"user A won this round!\", \"result=\",user_a_score,\"--\",user_b_score)\n",
    "        \n",
    "# user B Won\n",
    "\n",
    "    if user_a == \"rock\" and user_b == \"paper\" or user_a == \"scissors\" and user_b == \"rock\" or user_a == \"paper\" and user_b == \"scissors\":\n",
    "\n",
    "        user_b_score=user_b_score+1\n",
    "        print(\"user B won this round!\", \"result=\",user_a_score,\"--\",user_b_score)\n",
    "\n",
    "\n",
    "    \n",
    "    if quorum==user_a_score or quorum == user_b_score:\n",
    "        \n",
    "        if user_a_score > user_b_score:\n",
    "        \n",
    "            print(\"user A win the match!\", \"result=\",user_a_score,\"--\",user_b_score,\"\\n\",\"Goodbye...!\")\n",
    "            break\n",
    "            \n",
    "        elif user_b_score > user_a_score:\n",
    "            \n",
    "            print(\"user B win the match!\",\"result=\",user_a_score,\"--\",user_b_score,\"\\n\",\"Goodbye...!\")\n",
    "            break"
   ]
  },
  {
   "cell_type": "code",
   "execution_count": 1,
   "id": "b6c43c71",
   "metadata": {},
   "outputs": [
    {
     "name": "stdout",
     "output_type": "stream",
     "text": [
      "please enter the password: taha0010\n",
      "correct! Please wait to loging in...\n"
     ]
    }
   ],
   "source": [
    "de_pass= \"taha0010\"\n",
    "\n",
    "i=3\n",
    "n=1\n",
    "\n",
    "while n:\n",
    "    en_pass=input(\"please enter the password: \")\n",
    "    if en_pass == de_pass:\n",
    "        print(\"correct! Please wait to loging in...\")\n",
    "        break\n",
    "        \n",
    "    else :\n",
    "        n=n+1\n",
    "        if n < 4:\n",
    "            print(\"incorret password! Please try again.\")\n",
    "            print(\"You only have\",4-n,\"more chances to enter the correct password!\")\n",
    "            continue\n",
    "            \n",
    "        else:\n",
    "            print(\"You have had 3 unsuccessful attempts. Your access has been blocked\")\n",
    "            break"
   ]
  },
  {
   "cell_type": "code",
   "execution_count": null,
   "id": "f63da91e",
   "metadata": {},
   "outputs": [],
   "source": []
  }
 ],
 "metadata": {
  "kernelspec": {
   "display_name": "Python 3 (ipykernel)",
   "language": "python",
   "name": "python3"
  },
  "language_info": {
   "codemirror_mode": {
    "name": "ipython",
    "version": 3
   },
   "file_extension": ".py",
   "mimetype": "text/x-python",
   "name": "python",
   "nbconvert_exporter": "python",
   "pygments_lexer": "ipython3",
   "version": "3.9.12"
  }
 },
 "nbformat": 4,
 "nbformat_minor": 5
}
